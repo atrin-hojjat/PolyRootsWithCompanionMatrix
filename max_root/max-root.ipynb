{
 "cells": [
  {
   "cell_type": "code",
   "execution_count": 1,
   "id": "5136daa4-3cae-4ea3-9730-425f7e8c6cf1",
   "metadata": {},
   "outputs": [],
   "source": [
    "import numpy as np\n",
    "import matplotlib\n",
    "import matplotlib.pyplot as plt"
   ]
  },
  {
   "cell_type": "code",
   "execution_count": 2,
   "id": "a5bb76f8-0ee7-4d04-94c4-92f1b046e234",
   "metadata": {},
   "outputs": [],
   "source": [
    "def get_formated_poly(poly):\n",
    "    \"\"\"\n",
    "    Return the polynomial such that the coefficient of the maximum power of x \n",
    "    is always 1\n",
    "    \"\"\"\n",
    "    ret = poly / poly[0]\n",
    "    return ret"
   ]
  },
  {
   "cell_type": "code",
   "execution_count": 3,
   "id": "d4b5618e-77dd-4808-ba7f-8ec344ec007b",
   "metadata": {},
   "outputs": [],
   "source": [
    "def get_companion_matrix(poly):\n",
    "    \"\"\"\n",
    "    Calculate the companion matrix for a normalized polynomial\n",
    "    \"\"\"\n",
    "    n = len(poly)\n",
    "    cmat = np.zeros((n - 1, n - 1))\n",
    "    cmat[:, n - 2] = (-poly[1:])[::-1]\n",
    "    cmat[np.arange(1, n - 1), np.arange(0, n - 2)] = 1\n",
    "\n",
    "    return cmat\n"
   ]
  },
  {
   "cell_type": "code",
   "execution_count": 4,
   "id": "58df6162-6a0e-491e-bc7c-6fa2b6b19b58",
   "metadata": {},
   "outputs": [],
   "source": [
    "\n",
    "def power_iteration(A, num_iterations=1000, tol=1e-6):\n",
    "    \"\"\"\n",
    "    Power iteration method for finding the dominant eigenvalue and eigenvector.\n",
    "    \n",
    "    Parameters:\n",
    "    - A: Square matrix for which eigenvalues are to be calculated.\n",
    "    - num_iterations: Maximum number of iterations (default: 1000).\n",
    "    - tol: Tolerance to determine convergence (default: 1e-6).\n",
    "    \n",
    "    Returns:\n",
    "    - eigenvalue: Dominant eigenvalue.\n",
    "    - eigenvector: Corresponding eigenvector.\n",
    "    \"\"\"\n",
    "    n = A.shape[0]\n",
    "    \n",
    "    # Initialize a random vector\n",
    "    v = np.random.rand(n)\n",
    "    v = v / np.linalg.norm(v)  # Normalize the vector\n",
    "    \n",
    "    for i in range(num_iterations):\n",
    "        Av = np.dot(A, v)\n",
    "        eigenvalue = np.dot(v, Av)\n",
    "        v = Av / np.linalg.norm(Av)\n",
    "        \n",
    "        # Check for convergence\n",
    "        if np.abs(np.dot(Av, v) - eigenvalue) < tol:\n",
    "            break\n",
    "    \n",
    "    return eigenvalue, v"
   ]
  },
  {
   "cell_type": "code",
   "execution_count": 5,
   "id": "42717aca-7071-469d-8834-99014ed9d23b",
   "metadata": {},
   "outputs": [],
   "source": [
    "poly = np.array([2, 3, 1, 4, 3, 6])\n"
   ]
  },
  {
   "cell_type": "code",
   "execution_count": 6,
   "id": "e4cc8aa7-e499-42e0-beec-42f23fe7e7a4",
   "metadata": {},
   "outputs": [
    {
     "data": {
      "text/plain": [
       "array([1. , 1.5, 0.5, 2. , 1.5, 3. ])"
      ]
     },
     "execution_count": 6,
     "metadata": {},
     "output_type": "execute_result"
    }
   ],
   "source": [
    "norm_poly = get_formated_poly(poly)\n",
    "norm_poly"
   ]
  },
  {
   "cell_type": "code",
   "execution_count": 7,
   "id": "d9cff2d2-8c6e-443f-8ae9-922e92e9e57a",
   "metadata": {},
   "outputs": [
    {
     "data": {
      "text/plain": [
       "array([[ 0. ,  0. ,  0. ,  0. , -3. ],\n",
       "       [ 1. ,  0. ,  0. ,  0. , -1.5],\n",
       "       [ 0. ,  1. ,  0. ,  0. , -2. ],\n",
       "       [ 0. ,  0. ,  1. ,  0. , -0.5],\n",
       "       [ 0. ,  0. ,  0. ,  1. , -1.5]])"
      ]
     },
     "execution_count": 7,
     "metadata": {},
     "output_type": "execute_result"
    }
   ],
   "source": [
    "matrix = get_companion_matrix(norm_poly)\n",
    "\n",
    "matrix"
   ]
  },
  {
   "cell_type": "code",
   "execution_count": 20,
   "id": "d63ebca2-8081-4cbb-a1fe-714d95235022",
   "metadata": {},
   "outputs": [
    {
     "data": {
      "text/plain": [
       "-1.8399618985623636"
      ]
     },
     "execution_count": 20,
     "metadata": {},
     "output_type": "execute_result"
    }
   ],
   "source": [
    "root, _ = power_iteration(matrix)\n",
    "root"
   ]
  },
  {
   "cell_type": "code",
   "execution_count": 19,
   "id": "300c8199-a923-46d0-893c-1eef7b1b768a",
   "metadata": {},
   "outputs": [
    {
     "data": {
      "text/plain": [
       "-2.1316282072803006e-14"
      ]
     },
     "execution_count": 19,
     "metadata": {},
     "output_type": "execute_result"
    }
   ],
   "source": [
    "def eval_poly(poly, x):\n",
    "    cur_x = 1\n",
    "    total = 0\n",
    "    for a in poly[::-1]:\n",
    "        total += cur_x * a\n",
    "        cur_x *= x\n",
    "    return total\n",
    "eval_poly(poly, root)"
   ]
  }
 ],
 "metadata": {
  "kernelspec": {
   "display_name": "Python 3 (ipykernel)",
   "language": "python",
   "name": "python3"
  },
  "language_info": {
   "codemirror_mode": {
    "name": "ipython",
    "version": 3
   },
   "file_extension": ".py",
   "mimetype": "text/x-python",
   "name": "python",
   "nbconvert_exporter": "python",
   "pygments_lexer": "ipython3",
   "version": "3.11.5"
  }
 },
 "nbformat": 4,
 "nbformat_minor": 5
}
